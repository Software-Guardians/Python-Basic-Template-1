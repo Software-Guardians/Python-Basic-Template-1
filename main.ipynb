{
 "cells": [
  {
   "cell_type": "markdown",
   "id": "03cc3d20",
   "metadata": {},
   "source": [
    "# Bölüm 1:Veri tipleri"
   ]
  },
  {
   "cell_type": "markdown",
   "id": "951eedf4",
   "metadata": {},
   "source": [
    "### 1. Kullanıcıdan adını, yaşını ve boyunu (float) input() ile alınız. Bu bilgileri uygun veri tiplerinde değişkenlerde saklayınız ve ekrana anlamlı bir şekilde yazdırınız."
   ]
  },
  {
   "cell_type": "code",
   "execution_count": 19,
   "id": "6a294e2e",
   "metadata": {},
   "outputs": [
    {
     "name": "stdout",
     "output_type": "stream",
     "text": [
      "Merhaba,23.Yaşınız:34.Boyunuz:34.0 \n"
     ]
    }
   ],
   "source": [
    "name=input(\"İsminizi giriniz:\\n\")\n",
    "age=int(input(\"Yaşınızı giriniz:\\n\"))\n",
    "height=float(input(\"Boyunuzu giriniz:\\n\"))\n",
    "print(f\"Merhaba,{name}.Yaşınız:{age}.Boyunuz:{height} \")"
   ]
  },
  {
   "cell_type": "markdown",
   "id": "5603f41b",
   "metadata": {},
   "source": [
    "### 2. Bir öğrencinin notlarını (Matematik, Fizik, Kimya) int tipinde değişkenlere atayın. Ortalamasını float tipinde hesaplayıp ekrana yazdırınız."
   ]
  },
  {
   "cell_type": "code",
   "execution_count": 20,
   "id": "e10cc249",
   "metadata": {},
   "outputs": [
    {
     "name": "stdout",
     "output_type": "stream",
     "text": [
      "Ortalama:85.0\n"
     ]
    }
   ],
   "source": [
    "math=90\n",
    "pyhsics=85\n",
    "chemistry=80\n",
    "average=(math+pyhsics+chemistry)/3\n",
    "print(f\"Ortalama:{average}\")"
   ]
  },
  {
   "cell_type": "markdown",
   "id": "e57ce086",
   "metadata": {},
   "source": [
    "### 3. Bir string değişkeni tanımlayın. Bu stringin ilk ve son karakterini, uzunluğunu ve ters çevrilmiş halini ekrana yazdırınız."
   ]
  },
  {
   "cell_type": "code",
   "execution_count": 21,
   "id": "21c8052a",
   "metadata": {},
   "outputs": [
    {
     "name": "stdout",
     "output_type": "stream",
     "text": [
      "İlk karakter:M\n",
      "Son karakter:a\n",
      "Uzunluk:13\n",
      "Tersi:aynüD abahreM\n"
     ]
    }
   ],
   "source": [
    "my_string=\"Merhaba Dünya\"\n",
    "my_string_first_letter=my_string[0]\n",
    "my_string_last_letter=my_string[-1]\n",
    "my_string_length=len(my_string)\n",
    "my_string_reversed=my_string[::-1]\n",
    "print(f\"İlk karakter:{my_string_first_letter}\")\n",
    "print(f\"Son karakter:{my_string_last_letter}\")\n",
    "print(f\"Uzunluk:{my_string_length}\")\n",
    "print(f\"Tersi:{my_string_reversed}\")"
   ]
  },
  {
   "cell_type": "markdown",
   "id": "b2acd2ee",
   "metadata": {},
   "source": [
    "# Bölüm 2: Operatörler"
   ]
  },
  {
   "cell_type": "markdown",
   "id": "be0741ac",
   "metadata": {},
   "source": [
    "### 4. Kullanıcıdan iki sayı alınız. Bu sayılar üzerinde toplama, çıkarma, çarpma, bölme ve mod işlemleri yapınız."
   ]
  },
  {
   "cell_type": "code",
   "execution_count": 22,
   "id": "5f855bc5",
   "metadata": {},
   "outputs": [
    {
     "ename": "ValueError",
     "evalue": "could not convert string to float: ''",
     "output_type": "error",
     "traceback": [
      "\u001b[31m---------------------------------------------------------------------------\u001b[39m",
      "\u001b[31mValueError\u001b[39m                                Traceback (most recent call last)",
      "\u001b[36mCell\u001b[39m\u001b[36m \u001b[39m\u001b[32mIn[22]\u001b[39m\u001b[32m, line 1\u001b[39m\n\u001b[32m----> \u001b[39m\u001b[32m1\u001b[39m first_number=\u001b[38;5;28;43mfloat\u001b[39;49m\u001b[43m(\u001b[49m\u001b[38;5;28;43minput\u001b[39;49m\u001b[43m(\u001b[49m\u001b[33;43m\"\u001b[39;49m\u001b[33;43mBirinci Sayı:\u001b[39;49m\u001b[38;5;130;43;01m\\n\u001b[39;49;00m\u001b[33;43m\"\u001b[39;49m\u001b[43m)\u001b[49m\u001b[43m)\u001b[49m\n\u001b[32m      2\u001b[39m second_number=\u001b[38;5;28mfloat\u001b[39m(\u001b[38;5;28minput\u001b[39m(\u001b[33m\"\u001b[39m\u001b[33mİkinci Sayı:\u001b[39m\u001b[38;5;130;01m\\n\u001b[39;00m\u001b[33m\"\u001b[39m))\n\u001b[32m      3\u001b[39m \u001b[38;5;28mprint\u001b[39m(\u001b[33mf\u001b[39m\u001b[33m\"\u001b[39m\u001b[33mToplama:\u001b[39m\u001b[38;5;132;01m{\u001b[39;00mfirst_number+second_number\u001b[38;5;132;01m}\u001b[39;00m\u001b[33m\"\u001b[39m)\n",
      "\u001b[31mValueError\u001b[39m: could not convert string to float: ''"
     ]
    }
   ],
   "source": [
    "first_number=float(input(\"Birinci Sayı:\\n\"))\n",
    "second_number=float(input(\"İkinci Sayı:\\n\"))\n",
    "print(f\"Toplama:{first_number+second_number}\")\n",
    "print(f\"Çıkarma:{first_number-second_number}\")\n",
    "print(f\"Çarpma:{first_number*second_number}\")\n",
    "print(f\"Bölme:{first_number/second_number}\")\n",
    "print(f\"Mod:{first_number%second_number}\")"
   ]
  },
  {
   "cell_type": "markdown",
   "id": "2b598541",
   "metadata": {},
   "source": [
    "### 5. Bir öğrencinin ortalaması 50’den büyükse 'Geçti', değilse 'Kaldı' çıktısını veren bir program yazınız. (Karşılaştırma ve mantıksal operatörler kullanılacak.)"
   ]
  },
  {
   "cell_type": "code",
   "execution_count": null,
   "id": "18589a9c",
   "metadata": {},
   "outputs": [
    {
     "name": "stdout",
     "output_type": "stream",
     "text": [
      "Geçti.\n"
     ]
    }
   ],
   "source": [
    "point=55\n",
    "if point>50:\n",
    "    print(\"Geçti.\")\n",
    "else:\n",
    "    print(\"Kaldı.\")"
   ]
  },
  {
   "cell_type": "markdown",
   "id": "2b855afc",
   "metadata": {},
   "source": [
    "### 6. Kullanıcıdan yaşını alınız. Eğer yaş 18’den büyükse 'Ehliyet alabilirsiniz', değilse 'Ehliyet alamazsınız' çıktısı veriniz."
   ]
  },
  {
   "cell_type": "code",
   "execution_count": null,
   "id": "6779a6cb",
   "metadata": {},
   "outputs": [
    {
     "name": "stdout",
     "output_type": "stream",
     "text": [
      "Ehliyet alabilirsiniz\n"
     ]
    }
   ],
   "source": [
    "age=int(input(\"Yaşınızı giriniz:\\n\"))\n",
    "if age>18:\n",
    "    print(\"Ehliyet alabilirsiniz\")\n",
    "else:\n",
    "    print(\"Ehliyet alamazsınız.\")"
   ]
  },
  {
   "cell_type": "markdown",
   "id": "8e0725a4",
   "metadata": {},
   "source": [
    "### 7. Bir ürünün fiyatını (float) ve indirim oranını (yüzde) alınız. İndirimli fiyatı hesaplayıp ekrana yazdırınız. (Aritmetik operatörler kullanılacak.)"
   ]
  },
  {
   "cell_type": "code",
   "execution_count": null,
   "id": "834bdadc",
   "metadata": {},
   "outputs": [
    {
     "name": "stdout",
     "output_type": "stream",
     "text": [
      "153.0\n"
     ]
    }
   ],
   "source": [
    "price=180\n",
    "discount=15\n",
    "print(price*(100-discount)*0.01)"
   ]
  },
  {
   "cell_type": "markdown",
   "id": "045d2e1f",
   "metadata": {},
   "source": [
    "### 8. True ve False değerlerini içeren değişkenlerle mantıksal operatörleri (and, or, not) uygulayarak örnekler yapınız ve sonuçlarını ekrana yazdırınız."
   ]
  },
  {
   "cell_type": "code",
   "execution_count": null,
   "id": "2b9290b6",
   "metadata": {},
   "outputs": [
    {
     "name": "stdout",
     "output_type": "stream",
     "text": [
      "False\n",
      "True\n",
      "False\n"
     ]
    }
   ],
   "source": [
    "var1=True\n",
    "var2=False\n",
    "print(var1 and var2)\n",
    "print(var1 or var2)\n",
    "print(not var1)"
   ]
  },
  {
   "cell_type": "markdown",
   "id": "1dac70b4",
   "metadata": {},
   "source": [
    "# Bölüm 3: Mini Proje"
   ]
  },
  {
   "cell_type": "markdown",
   "id": "17fe30a5",
   "metadata": {},
   "source": [
    "### 9. Küçük bir alışveriş sepeti uygulaması yapınız:\n",
    "- Kullanıcıdan 3 ürünün fiyatını alınız.\n",
    "- Toplam fiyatı hesaplayınız.\n",
    "- Eğer toplam fiyat 200 TL’den fazlaysa %10 indirim uygulayınız.\n",
    "- Son fiyatı ekrana yazdırınız."
   ]
  },
  {
   "cell_type": "code",
   "execution_count": null,
   "id": "23926fcf",
   "metadata": {},
   "outputs": [
    {
     "name": "stdout",
     "output_type": "stream",
     "text": [
      "Toplam fiyat:187.20000000000002\n"
     ]
    }
   ],
   "source": [
    "product1=int(input(\"Birinci ürün:\\n\"))\n",
    "product2=int(input(\"İkinci ürün:\\n\"))\n",
    "product3=int(input(\"Üçüncü ürün:\\n\"))\n",
    "total=product1+product2+product3\n",
    "if total>200:\n",
    "    total=total*0.9\n",
    "print(f\"Toplam fiyat:{total}\")"
   ]
  },
  {
   "cell_type": "markdown",
   "id": "d7dc80c2",
   "metadata": {},
   "source": [
    "### 10. Kullanıcıdan doğum yılını alınız. Bu yıl ile güncel yılı kullanarak yaşını hesaplayınız. Yaşına göre şu mesajlardan birini veriniz:\n",
    "- 0-12: 'Çocuksunuz'\n",
    "- 13-17: 'Ergensiniz'\n",
    "- 18 ve üzeri: 'Yetişkinsiniz'"
   ]
  },
  {
   "cell_type": "code",
   "execution_count": null,
   "id": "15ca79d4",
   "metadata": {},
   "outputs": [
    {
     "name": "stdout",
     "output_type": "stream",
     "text": [
      "Ergensiniz.\n"
     ]
    }
   ],
   "source": [
    "birthdate=int(input(\"Doğum yılınızı giriniz:\\n\"))\n",
    "age=2025-birthdate\n",
    "if (age>0)and (age<13):\n",
    "    print(\"Çocuksunuz.\")\n",
    "elif (age>12) and (age<18):\n",
    "    print(\"Ergensiniz.\")\n",
    "elif age>17:\n",
    "    print(\"Yetişkinsiniz.\")"
   ]
  }
 ],
 "metadata": {
  "kernelspec": {
   "display_name": ".venv (3.13.5)",
   "language": "python",
   "name": "python3"
  },
  "language_info": {
   "codemirror_mode": {
    "name": "ipython",
    "version": 3
   },
   "file_extension": ".py",
   "mimetype": "text/x-python",
   "name": "python",
   "nbconvert_exporter": "python",
   "pygments_lexer": "ipython3",
   "version": "3.13.5"
  }
 },
 "nbformat": 4,
 "nbformat_minor": 5
}
